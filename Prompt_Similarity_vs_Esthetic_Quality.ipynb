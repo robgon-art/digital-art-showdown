{
  "nbformat": 4,
  "nbformat_minor": 0,
  "metadata": {
    "colab": {
      "provenance": [],
      "collapsed_sections": [],
      "mount_file_id": "14WTeaojPdt-feuR8wJOyuUc_TQT5YfaC",
      "authorship_tag": "ABX9TyPzpPCBs212Gkxve9KOCnQ4",
      "include_colab_link": true
    },
    "kernelspec": {
      "name": "python3",
      "display_name": "Python 3"
    },
    "language_info": {
      "name": "python"
    },
    "accelerator": "GPU"
  },
  "cells": [
    {
      "cell_type": "markdown",
      "metadata": {
        "id": "view-in-github",
        "colab_type": "text"
      },
      "source": [
        "<a href=\"https://colab.research.google.com/github/robgon-art/digital-art-showdown/blob/main/Prompt_Similarity_vs_Esthetic_Quality.ipynb\" target=\"_parent\"><img src=\"https://colab.research.google.com/assets/colab-badge.svg\" alt=\"Open In Colab\"/></a>"
      ]
    },
    {
      "cell_type": "code",
      "metadata": {
        "id": "62-fEt6zKElK",
        "colab": {
          "base_uri": "https://localhost:8080/"
        },
        "outputId": "65bdafb0-6536-4991-a3e7-dead25e79051"
      },
      "source": [
        "!pip install ftfy regex tqdm\n",
        "!pip install git+https://github.com/openai/CLIP.git"
      ],
      "execution_count": null,
      "outputs": [
        {
          "output_type": "stream",
          "name": "stdout",
          "text": [
            "Looking in indexes: https://pypi.org/simple, https://us-python.pkg.dev/colab-wheels/public/simple/\n",
            "Collecting ftfy\n",
            "  Downloading ftfy-6.1.1-py3-none-any.whl (53 kB)\n",
            "\u001b[K     |████████████████████████████████| 53 kB 1.3 MB/s \n",
            "\u001b[?25hRequirement already satisfied: regex in /usr/local/lib/python3.7/dist-packages (2022.6.2)\n",
            "Requirement already satisfied: tqdm in /usr/local/lib/python3.7/dist-packages (4.64.1)\n",
            "Requirement already satisfied: wcwidth>=0.2.5 in /usr/local/lib/python3.7/dist-packages (from ftfy) (0.2.5)\n",
            "Installing collected packages: ftfy\n",
            "Successfully installed ftfy-6.1.1\n",
            "Looking in indexes: https://pypi.org/simple, https://us-python.pkg.dev/colab-wheels/public/simple/\n",
            "Collecting git+https://github.com/openai/CLIP.git\n",
            "  Cloning https://github.com/openai/CLIP.git to /tmp/pip-req-build-dm__sbyh\n",
            "  Running command git clone -q https://github.com/openai/CLIP.git /tmp/pip-req-build-dm__sbyh\n",
            "Requirement already satisfied: ftfy in /usr/local/lib/python3.7/dist-packages (from clip==1.0) (6.1.1)\n",
            "Requirement already satisfied: regex in /usr/local/lib/python3.7/dist-packages (from clip==1.0) (2022.6.2)\n",
            "Requirement already satisfied: tqdm in /usr/local/lib/python3.7/dist-packages (from clip==1.0) (4.64.1)\n",
            "Requirement already satisfied: torch in /usr/local/lib/python3.7/dist-packages (from clip==1.0) (1.12.1+cu113)\n",
            "Requirement already satisfied: torchvision in /usr/local/lib/python3.7/dist-packages (from clip==1.0) (0.13.1+cu113)\n",
            "Requirement already satisfied: wcwidth>=0.2.5 in /usr/local/lib/python3.7/dist-packages (from ftfy->clip==1.0) (0.2.5)\n",
            "Requirement already satisfied: typing-extensions in /usr/local/lib/python3.7/dist-packages (from torch->clip==1.0) (4.1.1)\n",
            "Requirement already satisfied: pillow!=8.3.*,>=5.3.0 in /usr/local/lib/python3.7/dist-packages (from torchvision->clip==1.0) (7.1.2)\n",
            "Requirement already satisfied: numpy in /usr/local/lib/python3.7/dist-packages (from torchvision->clip==1.0) (1.21.6)\n",
            "Requirement already satisfied: requests in /usr/local/lib/python3.7/dist-packages (from torchvision->clip==1.0) (2.23.0)\n",
            "Requirement already satisfied: idna<3,>=2.5 in /usr/local/lib/python3.7/dist-packages (from requests->torchvision->clip==1.0) (2.10)\n",
            "Requirement already satisfied: certifi>=2017.4.17 in /usr/local/lib/python3.7/dist-packages (from requests->torchvision->clip==1.0) (2022.9.24)\n",
            "Requirement already satisfied: chardet<4,>=3.0.2 in /usr/local/lib/python3.7/dist-packages (from requests->torchvision->clip==1.0) (3.0.4)\n",
            "Requirement already satisfied: urllib3!=1.25.0,!=1.25.1,<1.26,>=1.21.1 in /usr/local/lib/python3.7/dist-packages (from requests->torchvision->clip==1.0) (1.24.3)\n",
            "Building wheels for collected packages: clip\n",
            "  Building wheel for clip (setup.py) ... \u001b[?25l\u001b[?25hdone\n",
            "  Created wheel for clip: filename=clip-1.0-py3-none-any.whl size=1369409 sha256=c94fa4619cd086c1626a806a9e9c84a4e5e1bebc0c84c9c0facc257a5a9a5c99\n",
            "  Stored in directory: /tmp/pip-ephem-wheel-cache-_0frxf2r/wheels/fd/b9/c3/5b4470e35ed76e174bff77c92f91da82098d5e35fd5bc8cdac\n",
            "Successfully built clip\n",
            "Installing collected packages: clip\n",
            "Successfully installed clip-1.0\n"
          ]
        }
      ]
    },
    {
      "cell_type": "code",
      "source": [
        "import clip\n",
        "print(clip.available_models())"
      ],
      "metadata": {
        "colab": {
          "base_uri": "https://localhost:8080/"
        },
        "id": "kbXDEPwHUYKr",
        "outputId": "3721c3b4-9f09-42a3-d2a6-fc110f0f2e64"
      },
      "execution_count": null,
      "outputs": [
        {
          "output_type": "stream",
          "name": "stdout",
          "text": [
            "['RN50', 'RN101', 'RN50x4', 'RN50x16', 'RN50x64', 'ViT-B/32', 'ViT-B/16', 'ViT-L/14', 'ViT-L/14@336px']\n"
          ]
        }
      ]
    },
    {
      "cell_type": "code",
      "metadata": {
        "id": "pLf1HrjgKTKB",
        "colab": {
          "base_uri": "https://localhost:8080/"
        },
        "outputId": "b66809ba-65d9-4dd8-9451-13d2e52b7130"
      },
      "source": [
        "import torch\n",
        "import clip\n",
        "from PIL import Image\n",
        "device = \"cuda\" if torch.cuda.is_available() else \"cpu\"\n",
        "model, preprocess = clip.load(\"ViT-L/14@336px\", device=device)"
      ],
      "execution_count": null,
      "outputs": [
        {
          "output_type": "stream",
          "name": "stderr",
          "text": [
            "100%|███████████████████████████████████████| 891M/891M [00:29<00:00, 31.8MiB/s]\n"
          ]
        }
      ]
    },
    {
      "cell_type": "code",
      "source": [
        "import glob\n",
        "file_list = glob.glob(\"/content/drive/MyDrive/stable_diffusion/*/*/*.png\")\n",
        "file_list.sort()"
      ],
      "metadata": {
        "id": "1Bl5XeosL4zl"
      },
      "execution_count": null,
      "outputs": []
    },
    {
      "cell_type": "code",
      "source": [
        "print(file_list[96:96+12])"
      ],
      "metadata": {
        "colab": {
          "base_uri": "https://localhost:8080/"
        },
        "id": "HwpYNn7-MOMN",
        "outputId": "9326614f-1089-4ab8-caf7-6fd5d4b03d67"
      },
      "execution_count": null,
      "outputs": [
        {
          "output_type": "stream",
          "name": "stdout",
          "text": [
            "['/content/drive/MyDrive/stable_diffusion/Portrait/charcoal drawing of a young Brazilian woman/2759034346_charcoal_drawing_of_a_young_Brazilian_woman.png', '/content/drive/MyDrive/stable_diffusion/Portrait/charcoal drawing of a young Brazilian woman/3447951393_charcoal_drawing_of_a_young_Brazilian_woman.png', '/content/drive/MyDrive/stable_diffusion/Portrait/charcoal drawing of a young Brazilian woman/3865261325_charcoal_drawing_of_a_young_Brazilian_woman.png', '/content/drive/MyDrive/stable_diffusion/Portrait/charcoal drawing of a young Brazilian woman/3983636955_charcoal_drawing_of_a_young_Brazilian_woman.png', '/content/drive/MyDrive/stable_diffusion/Portrait/charcoal drawing of a young Brazilian woman/DALL·E 2022-10-29 23.21.10 - charcoal drawing of a young Brazilian woman.png', '/content/drive/MyDrive/stable_diffusion/Portrait/charcoal drawing of a young Brazilian woman/DALL·E 2022-10-29 23.21.24 - charcoal drawing of a young Brazilian girl.png', '/content/drive/MyDrive/stable_diffusion/Portrait/charcoal drawing of a young Brazilian woman/DALL·E 2022-10-29 23.24.45 - charcoal drawing of a young Brazilian woman.png', '/content/drive/MyDrive/stable_diffusion/Portrait/charcoal drawing of a young Brazilian woman/DALL·E 2022-10-29 23.25.09 - charcoal drawing of a young Brazilian woman.png', '/content/drive/MyDrive/stable_diffusion/Portrait/charcoal drawing of a young Brazilian woman/robgon-art_charcoal_drawing_of_a_young_Brazilian_woman_21026149-94b7-442f-bf8f-c8f951af51c2.png', '/content/drive/MyDrive/stable_diffusion/Portrait/charcoal drawing of a young Brazilian woman/robgon-art_charcoal_drawing_of_a_young_Brazilian_woman_7e08cc8a-cd4a-44cf-ab9f-3becb74260dc.png', '/content/drive/MyDrive/stable_diffusion/Portrait/charcoal drawing of a young Brazilian woman/robgon-art_charcoal_drawing_of_a_young_Brazilian_woman_c370973f-336e-4836-a327-294c5fdea9a4.png', '/content/drive/MyDrive/stable_diffusion/Portrait/charcoal drawing of a young Brazilian woman/robgon-art_charcoal_drawing_of_a_young_Brazilian_woman_c4859aea-504d-4609-8299-f0824978d4d5.png']\n"
          ]
        }
      ]
    },
    {
      "cell_type": "code",
      "source": [
        "from PIL import ImageFont, ImageDraw\n",
        "fnt = ImageFont.truetype('/usr/share/fonts/truetype/liberation/LiberationSans-Bold.ttf', 40)\n",
        "dimensions = {\"Abstract\":(512, 512), \"Landscape\":(640, 512), \"Portrait\":(512, 640),\n",
        "         \"Still Life\":(640, 512)}\n",
        "\n",
        "for i, f in enumerate(file_list):\n",
        "  if \"DALL·E\" in f:\n",
        "    sd = \"DE\"\n",
        "  elif \"robgon-art\" in f:\n",
        "    sd = \"MJ\"\n",
        "  else:\n",
        "    sd = \"SD\"\n",
        "  c = i%4\n",
        "\n",
        "  print(f)\n",
        "  parts = f.split(\"/\")\n",
        "  subject = parts[5]\n",
        "  prompt = parts[6]\n",
        "  dims = dimensions[subject]\n",
        "  img = Image.open(f)\n",
        "  img_resized = img.resize(dims)\n",
        "  draw = ImageDraw.Draw(img_resized)\n",
        "\n",
        "  if sd == \"DE\":\n",
        "    draw.text((3, dims[1]-41), sd+str(c), font=fnt, fill=(255, 127, 14, 255))\n",
        "  elif sd == \"MJ\":\n",
        "    draw.text((3, dims[1]-41), sd+str(c), font=fnt, fill=(31, 119, 180, 255))\n",
        "  else:\n",
        "    draw.text((3, dims[1]-41), sd+str(c), font=fnt, fill=(44, 160, 44, 255))\n",
        "\n",
        "  draw.text((6, dims[1]-44), sd+str(c), font=fnt, fill=(255, 255, 255, 255))\n",
        "\n",
        "  if c == 0:\n",
        "    w = dims[0]*2+10\n",
        "    h = dims[1]*2+10\n",
        "    im = Image.new(mode = \"RGB\", size = (w, h), color = (255, 255, 255))\n",
        "    Image.Image.paste(im, img_resized, (0, 0))\n",
        "\n",
        "  elif c == 1:\n",
        "    Image.Image.paste(im, img_resized, (dims[0]+10, 0))\n",
        "  elif c == 2:\n",
        "    Image.Image.paste(im, img_resized, (0, dims[1]+10))\n",
        "  else:\n",
        "    Image.Image.paste(im, img_resized, (dims[0]+10, dims[1]+10))\n",
        "    im.save(\"/content/drive/MyDrive/stable_diffusion/charts/\"+subject+\"/\"+prompt+\"_\"+sd+\".jpg\", quality=95)"
      ],
      "metadata": {
        "colab": {
          "base_uri": "https://localhost:8080/"
        },
        "id": "N95n9NpyYnXK",
        "outputId": "1ca98a9b-8a72-48fd-a7eb-7c4c5fc91a8d"
      },
      "execution_count": null,
      "outputs": [
        {
          "output_type": "stream",
          "name": "stdout",
          "text": [
            "/content/drive/MyDrive/stable_diffusion/Abstract/abstract painting of triangles in orange/1003477924_abstract_painting_of_triangles_in_orange.png\n",
            "/content/drive/MyDrive/stable_diffusion/Abstract/abstract painting of triangles in orange/1503650147_abstract_painting_of_triangles_in_orange.png\n",
            "/content/drive/MyDrive/stable_diffusion/Abstract/abstract painting of triangles in orange/2822214846_abstract_painting_of_triangles_in_orange.png\n",
            "/content/drive/MyDrive/stable_diffusion/Abstract/abstract painting of triangles in orange/718966705_abstract_painting_of_triangles_in_orange.png\n",
            "/content/drive/MyDrive/stable_diffusion/Abstract/abstract painting of triangles in orange/DALL·E 2022-10-16 16.18.04 - abstract painting of triangles in orange.png\n",
            "/content/drive/MyDrive/stable_diffusion/Abstract/abstract painting of triangles in orange/DALL·E 2022-10-16 16.18.11 - abstract painting of triangles in orange.png\n",
            "/content/drive/MyDrive/stable_diffusion/Abstract/abstract painting of triangles in orange/DALL·E 2022-10-16 16.18.18 - abstract painting of triangles in orange.png\n",
            "/content/drive/MyDrive/stable_diffusion/Abstract/abstract painting of triangles in orange/DALL·E 2022-10-16 16.18.22 - abstract painting of triangles in orange.png\n",
            "/content/drive/MyDrive/stable_diffusion/Abstract/abstract painting of triangles in orange/robgon-art_abstract_painting_of_triangles_in_orange_293b236c-cb54-49ed-bf1f-7bca83ef28dc.png\n",
            "/content/drive/MyDrive/stable_diffusion/Abstract/abstract painting of triangles in orange/robgon-art_abstract_painting_of_triangles_in_orange_69c355c4-e010-47d9-a28d-ef9ab2465c22.png\n",
            "/content/drive/MyDrive/stable_diffusion/Abstract/abstract painting of triangles in orange/robgon-art_abstract_painting_of_triangles_in_orange_e121acda-2f39-4e99-88a6-62ffbcb5c97f.png\n",
            "/content/drive/MyDrive/stable_diffusion/Abstract/abstract painting of triangles in orange/robgon-art_abstract_painting_of_triangles_in_orange_e5e3acce-8a0f-4ace-bfde-fc2a875c4bad.png\n",
            "/content/drive/MyDrive/stable_diffusion/Abstract/abstract painting with spheres in ocean blue/2103212059_abstract_painting_with_spheres_in_ocean_blue.png\n",
            "/content/drive/MyDrive/stable_diffusion/Abstract/abstract painting with spheres in ocean blue/2323968165_abstract_painting_with_spheres_in_ocean_blue.png\n",
            "/content/drive/MyDrive/stable_diffusion/Abstract/abstract painting with spheres in ocean blue/2898229655_abstract_painting_with_spheres_in_ocean_blue.png\n",
            "/content/drive/MyDrive/stable_diffusion/Abstract/abstract painting with spheres in ocean blue/3312754228_abstract_painting_with_spheres_in_ocean_blue.png\n",
            "/content/drive/MyDrive/stable_diffusion/Abstract/abstract painting with spheres in ocean blue/DALL·E 2022-10-29 17.24.24 - abstract painting with spheres in ocean blue.png\n",
            "/content/drive/MyDrive/stable_diffusion/Abstract/abstract painting with spheres in ocean blue/DALL·E 2022-10-29 17.24.29 - abstract painting with spheres in ocean blue.png\n",
            "/content/drive/MyDrive/stable_diffusion/Abstract/abstract painting with spheres in ocean blue/DALL·E 2022-10-29 17.24.34 - abstract painting with spheres in ocean blue.png\n",
            "/content/drive/MyDrive/stable_diffusion/Abstract/abstract painting with spheres in ocean blue/DALL·E 2022-10-29 17.24.41 - abstract painting with spheres in ocean blue.png\n",
            "/content/drive/MyDrive/stable_diffusion/Abstract/abstract painting with spheres in ocean blue/robgon-art_abstract_painting_with_spheres_in_ocean_blue_26388e43-e043-4ca7-a447-e1130eb77182.png\n",
            "/content/drive/MyDrive/stable_diffusion/Abstract/abstract painting with spheres in ocean blue/robgon-art_abstract_painting_with_spheres_in_ocean_blue_54f6ffb4-9520-43b0-a92f-3c1a568f9785.png\n",
            "/content/drive/MyDrive/stable_diffusion/Abstract/abstract painting with spheres in ocean blue/robgon-art_abstract_painting_with_spheres_in_ocean_blue_e13a0069-be7d-415d-9584-8f0083e98044.png\n",
            "/content/drive/MyDrive/stable_diffusion/Abstract/abstract painting with spheres in ocean blue/robgon-art_abstract_painting_with_spheres_in_ocean_blue_eddc2be6-95b5-404a-a54d-2da432c744a0 (1).png\n",
            "/content/drive/MyDrive/stable_diffusion/Abstract/block color painting with purple and green squares/1065316074_block_color_painting_with_purple_and_green_squares.png\n",
            "/content/drive/MyDrive/stable_diffusion/Abstract/block color painting with purple and green squares/1378382244_block_color_painting_with_purple_and_green_squares.png\n",
            "/content/drive/MyDrive/stable_diffusion/Abstract/block color painting with purple and green squares/2056682437_block_color_painting_with_purple_and_green_squares.png\n",
            "/content/drive/MyDrive/stable_diffusion/Abstract/block color painting with purple and green squares/2094276756_block_color_painting_with_purple_and_green_squares.png\n",
            "/content/drive/MyDrive/stable_diffusion/Abstract/block color painting with purple and green squares/DALL·E 2022-10-29 17.23.16 - block color painting with purple and green squares.png\n",
            "/content/drive/MyDrive/stable_diffusion/Abstract/block color painting with purple and green squares/DALL·E 2022-10-29 17.23.24 - block color painting with purple and green squares.png\n",
            "/content/drive/MyDrive/stable_diffusion/Abstract/block color painting with purple and green squares/DALL·E 2022-10-29 17.23.29 - block color painting with purple and green squares.png\n",
            "/content/drive/MyDrive/stable_diffusion/Abstract/block color painting with purple and green squares/DALL·E 2022-10-29 17.23.36 - block color painting with purple and green squares.png\n",
            "/content/drive/MyDrive/stable_diffusion/Abstract/block color painting with purple and green squares/robgon-art_block_color_painting_with_purple_and_green_squares_4dab0dba-eae8-4599-99e5-572c3b2440f2.png\n",
            "/content/drive/MyDrive/stable_diffusion/Abstract/block color painting with purple and green squares/robgon-art_block_color_painting_with_purple_and_green_squares_700356fe-0754-4273-b773-9084b2a71383.png\n",
            "/content/drive/MyDrive/stable_diffusion/Abstract/block color painting with purple and green squares/robgon-art_block_color_painting_with_purple_and_green_squares_e1861f00-fde1-4450-8b4e-bd9a5d75d5bf.png\n",
            "/content/drive/MyDrive/stable_diffusion/Abstract/block color painting with purple and green squares/robgon-art_block_color_painting_with_purple_and_green_squares_ed2a2f23-c8af-4b40-b443-0dc4e0c751b8.png\n",
            "/content/drive/MyDrive/stable_diffusion/Abstract/splatter painting with thin yellow and black lines/2399545950_splatter_painting_with_thin_yellow_and_black_lines.png\n",
            "/content/drive/MyDrive/stable_diffusion/Abstract/splatter painting with thin yellow and black lines/2845027788_splatter_painting_with_thin_yellow_and_black_lines.png\n",
            "/content/drive/MyDrive/stable_diffusion/Abstract/splatter painting with thin yellow and black lines/3530949068_splatter_painting_with_thin_yellow_and_black_lines.png\n",
            "/content/drive/MyDrive/stable_diffusion/Abstract/splatter painting with thin yellow and black lines/3740125613_splatter_painting_with_thin_yellow_and_black_lines.png\n",
            "/content/drive/MyDrive/stable_diffusion/Abstract/splatter painting with thin yellow and black lines/DALL·E 2022-10-29 17.25.46 - splatter painting with thin yellow and black lines.png\n",
            "/content/drive/MyDrive/stable_diffusion/Abstract/splatter painting with thin yellow and black lines/DALL·E 2022-10-29 17.25.51 - splatter painting with thin yellow and black lines.png\n",
            "/content/drive/MyDrive/stable_diffusion/Abstract/splatter painting with thin yellow and black lines/DALL·E 2022-10-29 17.25.56 - splatter painting with thin yellow and black lines.png\n",
            "/content/drive/MyDrive/stable_diffusion/Abstract/splatter painting with thin yellow and black lines/DALL·E 2022-10-29 17.26.01 - splatter painting with thin yellow and black lines.png\n",
            "/content/drive/MyDrive/stable_diffusion/Abstract/splatter painting with thin yellow and black lines/robgon-art_splatter_painting_with_thin_yellow_and_black_lines_23e4e6ed-ef59-42f1-9da2-b09a2d834736.png\n",
            "/content/drive/MyDrive/stable_diffusion/Abstract/splatter painting with thin yellow and black lines/robgon-art_splatter_painting_with_thin_yellow_and_black_lines_453546b2-1b9b-4158-9877-09f6b131d1e9.png\n",
            "/content/drive/MyDrive/stable_diffusion/Abstract/splatter painting with thin yellow and black lines/robgon-art_splatter_painting_with_thin_yellow_and_black_lines_86576928-6544-4d95-96bd-ade30c374663.png\n",
            "/content/drive/MyDrive/stable_diffusion/Abstract/splatter painting with thin yellow and black lines/robgon-art_splatter_painting_with_thin_yellow_and_black_lines_d27e1534-eaac-4a38-828f-0b2cf8b9cab3.png\n",
            "/content/drive/MyDrive/stable_diffusion/Landscape/Impressionist painting of autumn woods/135078152_Impressionist_painting_of_autumn_woods.png\n",
            "/content/drive/MyDrive/stable_diffusion/Landscape/Impressionist painting of autumn woods/2626645219_Impressionist_painting_of_autumn_woods.png\n",
            "/content/drive/MyDrive/stable_diffusion/Landscape/Impressionist painting of autumn woods/3443140376_Impressionist_painting_of_autumn_woods.png\n",
            "/content/drive/MyDrive/stable_diffusion/Landscape/Impressionist painting of autumn woods/4165231477_Impressionist_painting_of_autumn_woods.png\n",
            "/content/drive/MyDrive/stable_diffusion/Landscape/Impressionist painting of autumn woods/DALL·E 2022-10-29 12.17.51 - Impressionist painting of autumn woods.png\n",
            "/content/drive/MyDrive/stable_diffusion/Landscape/Impressionist painting of autumn woods/DALL·E 2022-10-29 12.25.04 - Impressionist painting of autumn woods.png\n",
            "/content/drive/MyDrive/stable_diffusion/Landscape/Impressionist painting of autumn woods/DALL·E 2022-10-29 12.26.58 - Impressionist painting of autumn woods.png\n",
            "/content/drive/MyDrive/stable_diffusion/Landscape/Impressionist painting of autumn woods/DALL·E 2022-10-29 12.28.49 - Impressionist painting of autumn woods.png\n",
            "/content/drive/MyDrive/stable_diffusion/Landscape/Impressionist painting of autumn woods/robgon-art_Impressionist_painting_of_autumn_woods_3d61f2ec-0dcb-43d8-965c-b72e0e8ecd2f.png\n",
            "/content/drive/MyDrive/stable_diffusion/Landscape/Impressionist painting of autumn woods/robgon-art_Impressionist_painting_of_autumn_woods_45ee973d-f66c-43c0-b75e-12e4bf0bc4da.png\n",
            "/content/drive/MyDrive/stable_diffusion/Landscape/Impressionist painting of autumn woods/robgon-art_Impressionist_painting_of_autumn_woods_5c5e675c-ac64-4966-a20d-13d84519b041.png\n",
            "/content/drive/MyDrive/stable_diffusion/Landscape/Impressionist painting of autumn woods/robgon-art_Impressionist_painting_of_autumn_woods_82c09db2-41d7-4fb0-80a6-7f658604b78c.png\n",
            "/content/drive/MyDrive/stable_diffusion/Landscape/modern seascape with crashing waves/1133650782_modern_painting_of_a_dramatic_seascape_with_crashing_waves.png\n",
            "/content/drive/MyDrive/stable_diffusion/Landscape/modern seascape with crashing waves/1966325208_modern_painting_of_a_dramatic_seascape_with_crashing_waves.png\n",
            "/content/drive/MyDrive/stable_diffusion/Landscape/modern seascape with crashing waves/2102719028_modern_painting_of_a_dramatic_seascape_with_crashing_waves.png\n",
            "/content/drive/MyDrive/stable_diffusion/Landscape/modern seascape with crashing waves/4022962188_modern_painting_of_a_dramatic_seascape_with_crashing_waves.png\n",
            "/content/drive/MyDrive/stable_diffusion/Landscape/modern seascape with crashing waves/DALL·E 2022-10-29 13.35.54 - modern painting of a dramatic seascape with crashing waves.png\n",
            "/content/drive/MyDrive/stable_diffusion/Landscape/modern seascape with crashing waves/DALL·E 2022-10-29 14.33.44 - modern painting of a dramatic seascape with crashing waves.png\n",
            "/content/drive/MyDrive/stable_diffusion/Landscape/modern seascape with crashing waves/DALL·E 2022-10-29 14.35.06 - modern painting of a dramatic seascape with crashing waves.png\n",
            "/content/drive/MyDrive/stable_diffusion/Landscape/modern seascape with crashing waves/DALL·E 2022-10-29 14.36.16 - modern painting of a dramatic seascape with crashing waves.png\n",
            "/content/drive/MyDrive/stable_diffusion/Landscape/modern seascape with crashing waves/robgon-art_modern_painting_of_a_dramtic_seascape_with_crashing__6382ec6a-623f-43d9-b61d-98a8a14ff941.png\n",
            "/content/drive/MyDrive/stable_diffusion/Landscape/modern seascape with crashing waves/robgon-art_modern_painting_of_a_dramtic_seascape_with_crashing__9040475d-528e-43e2-a0bc-421fa278d0c4.png\n",
            "/content/drive/MyDrive/stable_diffusion/Landscape/modern seascape with crashing waves/robgon-art_modern_painting_of_a_dramtic_seascape_with_crashing__d170b4f0-3e3c-43dc-b824-61062aece1fc.png\n",
            "/content/drive/MyDrive/stable_diffusion/Landscape/modern seascape with crashing waves/robgon-art_modern_painting_of_a_dramtic_seascape_with_crashing__ef1fc0a9-3396-4142-91c4-b41a858c4c55.png\n",
            "/content/drive/MyDrive/stable_diffusion/Landscape/painting of rolling farmland/1108406723_painting_of_rolling_farmland.png\n",
            "/content/drive/MyDrive/stable_diffusion/Landscape/painting of rolling farmland/1661301406_painting_of_rolling_farmland.png\n",
            "/content/drive/MyDrive/stable_diffusion/Landscape/painting of rolling farmland/2103888504_painting_of_rolling_farmland.png\n",
            "/content/drive/MyDrive/stable_diffusion/Landscape/painting of rolling farmland/2151336039_painting_of_rolling_farmland.png\n",
            "/content/drive/MyDrive/stable_diffusion/Landscape/painting of rolling farmland/DALL·E 2022-10-29 12.39.20 - painting of rolling farmland.png\n",
            "/content/drive/MyDrive/stable_diffusion/Landscape/painting of rolling farmland/DALL·E 2022-10-29 12.40.48 - painting of rolling farmland.png\n",
            "/content/drive/MyDrive/stable_diffusion/Landscape/painting of rolling farmland/DALL·E 2022-10-29 12.42.07 - painting of rolling farmland.png\n",
            "/content/drive/MyDrive/stable_diffusion/Landscape/painting of rolling farmland/DALL·E 2022-10-29 12.43.35 - painting of rolling farmland.png\n",
            "/content/drive/MyDrive/stable_diffusion/Landscape/painting of rolling farmland/robgon-art_painting_of_rolling_farmland_7c28a436-7afb-4693-82ac-73e6f1427566.png\n",
            "/content/drive/MyDrive/stable_diffusion/Landscape/painting of rolling farmland/robgon-art_painting_of_rolling_farmland_9d672762-597a-4861-ad85-03bc21d88ac5.png\n",
            "/content/drive/MyDrive/stable_diffusion/Landscape/painting of rolling farmland/robgon-art_painting_of_rolling_farmland_e4c3fb88-6e51-4bf4-b96f-cb7a2adc6c71.png\n",
            "/content/drive/MyDrive/stable_diffusion/Landscape/painting of rolling farmland/robgon-art_painting_of_rolling_farmland_f5656722-3828-4fc7-8cc8-89d2dc7b7a35.png\n",
            "/content/drive/MyDrive/stable_diffusion/Landscape/realistic painting of the Boston city skyline/1871431922_realistic_painting_of_the_Boston_city_skyline.png\n",
            "/content/drive/MyDrive/stable_diffusion/Landscape/realistic painting of the Boston city skyline/2916412429_realistic_painting_of_the_Boston_city_skyline.png\n",
            "/content/drive/MyDrive/stable_diffusion/Landscape/realistic painting of the Boston city skyline/3288234107_realistic_painting_of_the_Boston_city_skyline.png\n",
            "/content/drive/MyDrive/stable_diffusion/Landscape/realistic painting of the Boston city skyline/3645233333_realistic_painting_of_the_Boston_city_skyline.png\n",
            "/content/drive/MyDrive/stable_diffusion/Landscape/realistic painting of the Boston city skyline/DALL·E 2022-10-29 13.22.40 - realistic painting of the Boston city skyline.png\n",
            "/content/drive/MyDrive/stable_diffusion/Landscape/realistic painting of the Boston city skyline/DALL·E 2022-10-29 13.24.38 - realistic painting of the Boston city skyline.png\n",
            "/content/drive/MyDrive/stable_diffusion/Landscape/realistic painting of the Boston city skyline/DALL·E 2022-10-29 13.26.23 - realistic painting of the Boston city skyline.png\n",
            "/content/drive/MyDrive/stable_diffusion/Landscape/realistic painting of the Boston city skyline/DALL·E 2022-10-29 13.27.37 - realistic painting of the Boston city skyline.png\n",
            "/content/drive/MyDrive/stable_diffusion/Landscape/realistic painting of the Boston city skyline/robgon-art_realistic_painting_of_the_Boston_city_skyline_0125d710-d976-4880-971f-66f81b3cb145.png\n",
            "/content/drive/MyDrive/stable_diffusion/Landscape/realistic painting of the Boston city skyline/robgon-art_realistic_painting_of_the_Boston_city_skyline_93eb965e-1ca5-46cd-9e9a-2cdfa42a27c5.png\n",
            "/content/drive/MyDrive/stable_diffusion/Landscape/realistic painting of the Boston city skyline/robgon-art_realistic_painting_of_the_Boston_city_skyline_eb20fa25-add5-425a-98cd-20a80974af20.png\n",
            "/content/drive/MyDrive/stable_diffusion/Landscape/realistic painting of the Boston city skyline/robgon-art_realistic_painting_of_the_Boston_city_skyline_f8d5de9d-51f0-4bed-8154-7e9efc6e2784.png\n",
            "/content/drive/MyDrive/stable_diffusion/Portrait/charcoal drawing of a young Brazilian woman/2759034346_charcoal_drawing_of_a_young_Brazilian_woman.png\n",
            "/content/drive/MyDrive/stable_diffusion/Portrait/charcoal drawing of a young Brazilian woman/3447951393_charcoal_drawing_of_a_young_Brazilian_woman.png\n",
            "/content/drive/MyDrive/stable_diffusion/Portrait/charcoal drawing of a young Brazilian woman/3865261325_charcoal_drawing_of_a_young_Brazilian_woman.png\n",
            "/content/drive/MyDrive/stable_diffusion/Portrait/charcoal drawing of a young Brazilian woman/3983636955_charcoal_drawing_of_a_young_Brazilian_woman.png\n",
            "/content/drive/MyDrive/stable_diffusion/Portrait/charcoal drawing of a young Brazilian woman/DALL·E 2022-10-29 23.21.10 - charcoal drawing of a young Brazilian woman.png\n",
            "/content/drive/MyDrive/stable_diffusion/Portrait/charcoal drawing of a young Brazilian woman/DALL·E 2022-10-29 23.21.24 - charcoal drawing of a young Brazilian girl.png\n",
            "/content/drive/MyDrive/stable_diffusion/Portrait/charcoal drawing of a young Brazilian woman/DALL·E 2022-10-29 23.24.45 - charcoal drawing of a young Brazilian woman.png\n",
            "/content/drive/MyDrive/stable_diffusion/Portrait/charcoal drawing of a young Brazilian woman/DALL·E 2022-10-29 23.25.09 - charcoal drawing of a young Brazilian woman.png\n",
            "/content/drive/MyDrive/stable_diffusion/Portrait/charcoal drawing of a young Brazilian woman/robgon-art_charcoal_drawing_of_a_young_Brazilian_woman_21026149-94b7-442f-bf8f-c8f951af51c2.png\n",
            "/content/drive/MyDrive/stable_diffusion/Portrait/charcoal drawing of a young Brazilian woman/robgon-art_charcoal_drawing_of_a_young_Brazilian_woman_7e08cc8a-cd4a-44cf-ab9f-3becb74260dc.png\n",
            "/content/drive/MyDrive/stable_diffusion/Portrait/charcoal drawing of a young Brazilian woman/robgon-art_charcoal_drawing_of_a_young_Brazilian_woman_c370973f-336e-4836-a327-294c5fdea9a4.png\n",
            "/content/drive/MyDrive/stable_diffusion/Portrait/charcoal drawing of a young Brazilian woman/robgon-art_charcoal_drawing_of_a_young_Brazilian_woman_c4859aea-504d-4609-8299-f0824978d4d5.png\n",
            "/content/drive/MyDrive/stable_diffusion/Portrait/cubist painting of a man from the 1920s/206328318_Cubist_painting_of_a_man_from_the_1920s.png\n",
            "/content/drive/MyDrive/stable_diffusion/Portrait/cubist painting of a man from the 1920s/2552734591_Cubist_painting_of_a_man_from_the_1920s.png\n",
            "/content/drive/MyDrive/stable_diffusion/Portrait/cubist painting of a man from the 1920s/3854623681_Cubist_painting_of_a_man_from_the_1920s.png\n",
            "/content/drive/MyDrive/stable_diffusion/Portrait/cubist painting of a man from the 1920s/488617546_Cubist_painting_of_a_man_from_the_1920s.png\n",
            "/content/drive/MyDrive/stable_diffusion/Portrait/cubist painting of a man from the 1920s/DALL·E 2022-10-29 18.47.18 - Cubist painting of a man from the 1920s.png\n",
            "/content/drive/MyDrive/stable_diffusion/Portrait/cubist painting of a man from the 1920s/DALL·E 2022-10-29 18.47.29 - Cubist painting of a man from the 1920s.png\n",
            "/content/drive/MyDrive/stable_diffusion/Portrait/cubist painting of a man from the 1920s/DALL·E 2022-10-29 18.49.43 - Cubist painting of a man from the 1920s.png\n",
            "/content/drive/MyDrive/stable_diffusion/Portrait/cubist painting of a man from the 1920s/DALL·E 2022-10-29 18.51.11 - Cubist painting of a man from the 1920s.png\n",
            "/content/drive/MyDrive/stable_diffusion/Portrait/cubist painting of a man from the 1920s/robgon-art_Cubist_painting_of_a_man_from_the_1920s_2edea391-3334-487c-80e7-78e01a97f965.png\n",
            "/content/drive/MyDrive/stable_diffusion/Portrait/cubist painting of a man from the 1920s/robgon-art_Cubist_painting_of_a_man_from_the_1920s_416fa70e-0f6b-4115-91c9-3766c95a133d.png\n",
            "/content/drive/MyDrive/stable_diffusion/Portrait/cubist painting of a man from the 1920s/robgon-art_Cubist_painting_of_a_man_from_the_1920s_87858117-bc0c-4ddb-a232-9799ac30ee47.png\n",
            "/content/drive/MyDrive/stable_diffusion/Portrait/cubist painting of a man from the 1920s/robgon-art_Cubist_painting_of_a_man_from_the_1920s_f4cfb6af-6e4e-4b60-8fe4-ca1e594f4a55.png\n",
            "/content/drive/MyDrive/stable_diffusion/Portrait/oil painting of a focused Portuguese guy/1770565124_oil_painting_of_a_focused_Portuguese_guy.png\n",
            "/content/drive/MyDrive/stable_diffusion/Portrait/oil painting of a focused Portuguese guy/2007504642_oil_painting_of_a_focused_Portuguese_guy.png\n",
            "/content/drive/MyDrive/stable_diffusion/Portrait/oil painting of a focused Portuguese guy/2638041803_oil_painting_of_a_focused_Portuguese_guy.png\n",
            "/content/drive/MyDrive/stable_diffusion/Portrait/oil painting of a focused Portuguese guy/3500406186_oil_painting_of_a_focused_Portuguese_guy.png\n",
            "/content/drive/MyDrive/stable_diffusion/Portrait/oil painting of a focused Portuguese guy/DALL·E 2022-10-29 23.36.27 - oil painting of a focused Portuguese man.png\n",
            "/content/drive/MyDrive/stable_diffusion/Portrait/oil painting of a focused Portuguese guy/DALL·E 2022-10-29 23.36.47 - oil painting of a focused Portuguese man.png\n",
            "/content/drive/MyDrive/stable_diffusion/Portrait/oil painting of a focused Portuguese guy/DALL·E 2022-10-29 23.38.43 - oil painting of a focused Portuguese man.png\n",
            "/content/drive/MyDrive/stable_diffusion/Portrait/oil painting of a focused Portuguese guy/DALL·E 2022-10-29 23.42.08 - oil painting of a focused Portuguese man.png\n",
            "/content/drive/MyDrive/stable_diffusion/Portrait/oil painting of a focused Portuguese guy/robgon-art_oil_painting_of_a_focused_Portuguese_guy_38da1698-3c60-4f6d-9708-6f658f61c0bf.png\n",
            "/content/drive/MyDrive/stable_diffusion/Portrait/oil painting of a focused Portuguese guy/robgon-art_oil_painting_of_a_focused_Portuguese_guy_86e6f869-bdfc-4a7a-964b-8376f0e61ab1.png\n",
            "/content/drive/MyDrive/stable_diffusion/Portrait/oil painting of a focused Portuguese guy/robgon-art_oil_painting_of_a_focused_Portuguese_guy_b8a31927-4abd-4cd1-bcb6-7957cea87b22.png\n",
            "/content/drive/MyDrive/stable_diffusion/Portrait/oil painting of a focused Portuguese guy/robgon-art_oil_painting_of_a_focused_Portuguese_guy_ed3ab825-3f05-4f64-bce3-4765438d2860.png\n",
            "/content/drive/MyDrive/stable_diffusion/Portrait/pastel painting of a concerned Korean woman/231850246_pastel_painting_of_a_concerned_Korean_woman.png\n",
            "/content/drive/MyDrive/stable_diffusion/Portrait/pastel painting of a concerned Korean woman/2486160968_pastel_painting_of_a_concerned_Korean_woman.png\n",
            "/content/drive/MyDrive/stable_diffusion/Portrait/pastel painting of a concerned Korean woman/2640617514_pastel_painting_of_a_concerned_Korean_woman.png\n",
            "/content/drive/MyDrive/stable_diffusion/Portrait/pastel painting of a concerned Korean woman/624912106_pastel_painting_of_a_concerned_Korean_woman.png\n",
            "/content/drive/MyDrive/stable_diffusion/Portrait/pastel painting of a concerned Korean woman/DALL·E 2022-10-29 23.56.04 - pastel painting of a concerned Korean woman.png\n",
            "/content/drive/MyDrive/stable_diffusion/Portrait/pastel painting of a concerned Korean woman/DALL·E 2022-10-29 23.56.14 - pastel painting of a concerned Korean woman.png\n",
            "/content/drive/MyDrive/stable_diffusion/Portrait/pastel painting of a concerned Korean woman/DALL·E 2022-10-29 23.57.49 - pastel painting of a concerned Korean woman.png\n",
            "/content/drive/MyDrive/stable_diffusion/Portrait/pastel painting of a concerned Korean woman/DALL·E 2022-10-29 23.58.08 - pastel painting of a concerned Korean woman.png\n",
            "/content/drive/MyDrive/stable_diffusion/Portrait/pastel painting of a concerned Korean woman/robgon-art_pastel_painting_of_a_concerned_Korean_woman_2ded015a-8385-49c8-9e8f-ee3f1ecaa85e.png\n",
            "/content/drive/MyDrive/stable_diffusion/Portrait/pastel painting of a concerned Korean woman/robgon-art_pastel_painting_of_a_concerned_Korean_woman_b7aa5d16-0acc-4fd2-ac88-86094a411ac0.png\n",
            "/content/drive/MyDrive/stable_diffusion/Portrait/pastel painting of a concerned Korean woman/robgon-art_pastel_painting_of_a_concerned_Korean_woman_df021bca-b906-4787-aa87-2d0087926833.png\n",
            "/content/drive/MyDrive/stable_diffusion/Portrait/pastel painting of a concerned Korean woman/robgon-art_pastel_painting_of_a_concerned_Korean_woman_f0145506-6c23-4eb2-a140-74691fd436c0.png\n",
            "/content/drive/MyDrive/stable_diffusion/Still Life/Impressionist oil painting of sunflowers in magenta vases/110141185_Impressionist_oil_painting_of_sunflowers_in_a_magenta_vase.png\n",
            "/content/drive/MyDrive/stable_diffusion/Still Life/Impressionist oil painting of sunflowers in magenta vases/2534074296_Impressionist_oil_painting_of_sunflowers_in_a_magenta_vase.png\n",
            "/content/drive/MyDrive/stable_diffusion/Still Life/Impressionist oil painting of sunflowers in magenta vases/294189431_Impressionist_oil_painting_of_sunflowers_in_a_magenta_vase.png\n",
            "/content/drive/MyDrive/stable_diffusion/Still Life/Impressionist oil painting of sunflowers in magenta vases/3107022781_Impressionist_oil_painting_of_sunflowers_in_a_magenta_vase.png\n",
            "/content/drive/MyDrive/stable_diffusion/Still Life/Impressionist oil painting of sunflowers in magenta vases/DALL·E 2022-10-29 18.05.24 - Impressionist oil painting of sunflowers magenta vases.png\n",
            "/content/drive/MyDrive/stable_diffusion/Still Life/Impressionist oil painting of sunflowers in magenta vases/DALL·E 2022-10-29 18.06.25 - Impressionist oil painting of sunflowers magenta vases.png\n",
            "/content/drive/MyDrive/stable_diffusion/Still Life/Impressionist oil painting of sunflowers in magenta vases/DALL·E 2022-10-29 18.07.40 - Impressionist oil painting of sunflowers magenta vases.png\n",
            "/content/drive/MyDrive/stable_diffusion/Still Life/Impressionist oil painting of sunflowers in magenta vases/DALL·E 2022-10-29 18.08.01 - Impressionist oil painting of sunflowers magenta vases.png\n",
            "/content/drive/MyDrive/stable_diffusion/Still Life/Impressionist oil painting of sunflowers in magenta vases/robgon-art_Impressionist_oil_painting_of_sunflowers_in_a_magent_405f5e8e-f53d-453c-844e-a23193539174.png\n",
            "/content/drive/MyDrive/stable_diffusion/Still Life/Impressionist oil painting of sunflowers in magenta vases/robgon-art_Impressionist_oil_painting_of_sunflowers_in_a_magent_52f5a0b9-4ae2-44af-a6b4-ed6d05158ac6.png\n",
            "/content/drive/MyDrive/stable_diffusion/Still Life/Impressionist oil painting of sunflowers in magenta vases/robgon-art_Impressionist_oil_painting_of_sunflowers_in_a_magent_56c9471b-b7ec-44ec-9d0b-b20318085bbe.png\n",
            "/content/drive/MyDrive/stable_diffusion/Still Life/Impressionist oil painting of sunflowers in magenta vases/robgon-art_Impressionist_oil_painting_of_sunflowers_in_a_magent_d79425eb-8fd0-4c27-a2ce-5a8708333eff.png\n",
            "/content/drive/MyDrive/stable_diffusion/Still Life/oil painting of a nightstand with lamp, book, and reading glasses/2394231353_oil_painting_of_a_nightstand_with_a_lamp__book__and_reading_glasses.png\n",
            "/content/drive/MyDrive/stable_diffusion/Still Life/oil painting of a nightstand with lamp, book, and reading glasses/3104939276_oil_painting_of_a_nightstand_with_a_lamp__book__and_reading_glasses.png\n",
            "/content/drive/MyDrive/stable_diffusion/Still Life/oil painting of a nightstand with lamp, book, and reading glasses/3724855560_oil_painting_of_a_nightstand_with_a_lamp__book__and_reading_glasses.png\n",
            "/content/drive/MyDrive/stable_diffusion/Still Life/oil painting of a nightstand with lamp, book, and reading glasses/985826475_oil_painting_of_a_nightstand_with_a_lamp__book__and_reading_glasses.png\n",
            "/content/drive/MyDrive/stable_diffusion/Still Life/oil painting of a nightstand with lamp, book, and reading glasses/DALL·E 2022-10-29 18.29.24 - oil painting of a nightstand with lamp, book, and reading glasses.png\n",
            "/content/drive/MyDrive/stable_diffusion/Still Life/oil painting of a nightstand with lamp, book, and reading glasses/DALL·E 2022-10-29 18.29.39 - oil painting of a nightstand with lamp, book, and reading glasses.png\n",
            "/content/drive/MyDrive/stable_diffusion/Still Life/oil painting of a nightstand with lamp, book, and reading glasses/DALL·E 2022-10-29 18.31.26 - oil painting of a nightstand with lamp, book, and reading glasses.png\n",
            "/content/drive/MyDrive/stable_diffusion/Still Life/oil painting of a nightstand with lamp, book, and reading glasses/DALL·E 2022-10-29 18.31.38 - oil painting of a nightstand with lamp, book, and reading glasses.png\n",
            "/content/drive/MyDrive/stable_diffusion/Still Life/oil painting of a nightstand with lamp, book, and reading glasses/robgon-art_oil_painting_of_a_nightstand_with_lamp_book_and_read_12e0f58b-ebbd-4ca6-9012-dc86c8f5003f.png\n",
            "/content/drive/MyDrive/stable_diffusion/Still Life/oil painting of a nightstand with lamp, book, and reading glasses/robgon-art_oil_painting_of_a_nightstand_with_lamp_book_and_read_35792613-1bd1-4564-b1de-a1a78448d4f4.png\n",
            "/content/drive/MyDrive/stable_diffusion/Still Life/oil painting of a nightstand with lamp, book, and reading glasses/robgon-art_oil_painting_of_a_nightstand_with_lamp_book_and_read_8698d687-c9fa-4788-983f-eb1fde9497e9.png\n",
            "/content/drive/MyDrive/stable_diffusion/Still Life/oil painting of a nightstand with lamp, book, and reading glasses/robgon-art_oil_painting_of_a_nightstand_with_lamp_book_and_read_d2a37193-04ec-4380-b38e-07a988e5c5a6.png\n",
            "/content/drive/MyDrive/stable_diffusion/Still Life/still life painting of a bowl of fruit/2876135033_still_life_painting_of_a_bowl_of_fruit.png\n",
            "/content/drive/MyDrive/stable_diffusion/Still Life/still life painting of a bowl of fruit/2975900114_still_life_painting_of_a_bowl_of_fruit.png\n",
            "/content/drive/MyDrive/stable_diffusion/Still Life/still life painting of a bowl of fruit/3475700069_still_life_painting_of_a_bowl_of_fruit.png\n",
            "/content/drive/MyDrive/stable_diffusion/Still Life/still life painting of a bowl of fruit/4035309351_still_life_painting_of_a_bowl_of_fruit.png\n",
            "/content/drive/MyDrive/stable_diffusion/Still Life/still life painting of a bowl of fruit/DALL·E 2022-10-29 17.43.58 - still life painting of a bowl of fruit.png\n",
            "/content/drive/MyDrive/stable_diffusion/Still Life/still life painting of a bowl of fruit/DALL·E 2022-10-29 17.45.18 - still life painting of a bowl of fruit.png\n",
            "/content/drive/MyDrive/stable_diffusion/Still Life/still life painting of a bowl of fruit/DALL·E 2022-10-29 17.46.34 - still life painting of a bowl of fruit.png\n",
            "/content/drive/MyDrive/stable_diffusion/Still Life/still life painting of a bowl of fruit/DALL·E 2022-10-29 17.49.02 - still life painting of a bowl of fruit.png\n",
            "/content/drive/MyDrive/stable_diffusion/Still Life/still life painting of a bowl of fruit/robgon-art_still_life_painting_of_a_bowl_of_fruit_6bbe3b42-8d40-42a8-aab8-0b9dc031c58c.png\n",
            "/content/drive/MyDrive/stable_diffusion/Still Life/still life painting of a bowl of fruit/robgon-art_still_life_painting_of_a_bowl_of_fruit_6cb36e40-df91-4a80-8526-6f0cb88bb707.png\n",
            "/content/drive/MyDrive/stable_diffusion/Still Life/still life painting of a bowl of fruit/robgon-art_still_life_painting_of_a_bowl_of_fruit_74ab4dcd-0f67-418f-b4c5-3a91152e4168.png\n",
            "/content/drive/MyDrive/stable_diffusion/Still Life/still life painting of a bowl of fruit/robgon-art_still_life_painting_of_a_bowl_of_fruit_c9f17cb1-082d-4efc-b274-79acd98c2dbe.png\n",
            "/content/drive/MyDrive/stable_diffusion/Still Life/still life painting of colorful glass bottles/1760904803_still_life_painting_of_colorful_glass_bottles.png\n",
            "/content/drive/MyDrive/stable_diffusion/Still Life/still life painting of colorful glass bottles/4282431602_still_life_painting_of_colorful_glass_bottles.png\n",
            "/content/drive/MyDrive/stable_diffusion/Still Life/still life painting of colorful glass bottles/789978241_still_life_painting_of_colorful_glass_bottles.png\n",
            "/content/drive/MyDrive/stable_diffusion/Still Life/still life painting of colorful glass bottles/920776921_still_life_painting_of_colorful_glass_bottles.png\n",
            "/content/drive/MyDrive/stable_diffusion/Still Life/still life painting of colorful glass bottles/DALL·E 2022-10-29 18.13.59 - still life painting of colorful glass bottles.png\n",
            "/content/drive/MyDrive/stable_diffusion/Still Life/still life painting of colorful glass bottles/DALL·E 2022-10-29 18.14.20 - still life painting of colorful glass bottles.png\n",
            "/content/drive/MyDrive/stable_diffusion/Still Life/still life painting of colorful glass bottles/DALL·E 2022-10-29 18.16.37 - still life painting of colorful glass bottles.png\n",
            "/content/drive/MyDrive/stable_diffusion/Still Life/still life painting of colorful glass bottles/DALL·E 2022-10-29 18.16.51 - still life painting of colorful glass bottles.png\n",
            "/content/drive/MyDrive/stable_diffusion/Still Life/still life painting of colorful glass bottles/robgon-art_still_life_painting_of_colorful_glass_bottles_76fbaddc-df31-448a-badc-0c2998743b06.png\n",
            "/content/drive/MyDrive/stable_diffusion/Still Life/still life painting of colorful glass bottles/robgon-art_still_life_painting_of_colorful_glass_bottles_a428e414-b450-4157-aa9d-f78261483c45.png\n",
            "/content/drive/MyDrive/stable_diffusion/Still Life/still life painting of colorful glass bottles/robgon-art_still_life_painting_of_colorful_glass_bottles_a5037172-c426-4e7d-a595-b5dd0ac40a04.png\n",
            "/content/drive/MyDrive/stable_diffusion/Still Life/still life painting of colorful glass bottles/robgon-art_still_life_painting_of_colorful_glass_bottles_c13551cf-29ed-43fb-a7a1-cc4cc9afca06.png\n"
          ]
        }
      ]
    },
    {
      "cell_type": "code",
      "source": [
        "from IPython.display import display\n",
        "prompt_similarities = []\n",
        "esthetic_qualities = []\n",
        "embeddings = []\n",
        "labels = []\n",
        "\n",
        "start = 96\n",
        "\n",
        "for i, f in enumerate(file_list[start:start+12]):\n",
        "  if \"DALL·E\" in f:\n",
        "    sd = \"DE\"\n",
        "  elif \"robgon-art\" in f:\n",
        "    sd = \"MJ\"\n",
        "  else:\n",
        "    sd = \"SD\"\n",
        "  c = i%4\n",
        "  labels.append(sd+str(c))\n",
        "  parts = f.split(\"/\")\n",
        "  subject = parts[5]\n",
        "  prompt = parts[6]\n",
        "  # print(sd, c, subject, prompt, f)\n",
        "\n",
        "  img = Image.open(f)\n",
        "  img_resized = img.resize((336, 336))\n",
        "  # display(img_resized)\n",
        "\n",
        "  image = preprocess(img_resized).unsqueeze(0).to(device)\n",
        "  text = clip.tokenize([\"fake art\", \"real art\", \"bad art\", \"good art\", \n",
        "    prompt]).to(device)\n",
        "\n",
        "  with torch.no_grad():\n",
        "    image_features = model.encode_image(image)\n",
        "    image_features /= image_features.norm(dim=-1, keepdim=True)\n",
        "    embeddings.append(image_features.flatten().cpu().tolist())\n",
        "    text_features = model.encode_text(text)\n",
        "    text_features /= text_features.norm(dim=-1, keepdim=True)\n",
        "    similarity = text_features.cpu().numpy() @ image_features.cpu().numpy().T\n",
        "\n",
        "  fake = similarity[0][0]\n",
        "  real = similarity[1][0]\n",
        "  bad = similarity[2][0]\n",
        "  good = similarity[3][0]\n",
        "  esthetic_quality = (real-fake) + (good-bad)\n",
        "\n",
        "  prompt_similarity = similarity[4][0]\n",
        "\n",
        "  prompt_similarities.append(esthetic_quality)\n",
        "  esthetic_qualities.append(prompt_similarity)\n",
        "\n",
        "  print(\"{:7.4f}\".format(prompt_similarity), \"{:7.4f}\".format(esthetic_quality), f)\n",
        "\n",
        "import matplotlib.pyplot as plt\n",
        "fig, ax = plt.subplots(figsize=(7, 7), dpi=80)\n",
        "\n",
        "plt.xlabel(\"matches less <--    Prompt Similarity    --> matches more\", fontsize=12)\n",
        "plt.ylabel(\"lower <--    Esthetic Quality    --> higher\", fontsize=12)\n",
        "plt.scatter(esthetic_qualities[8:12], prompt_similarities[8:12], s=100, label=\"Midjourney\")\n",
        "plt.scatter(esthetic_qualities[4:8], prompt_similarities[4:8], s=100, label=\"Dall-E\")\n",
        "plt.scatter(esthetic_qualities[0:4], prompt_similarities[0:4], s=100, label=\"Stable Diffusion\")\n",
        "plt.legend(loc=\"lower left\")\n",
        "\n",
        "for i, txt in enumerate(labels):\n",
        "  ax.annotate(txt, (esthetic_qualities[i]+0.0009, prompt_similarities[i]-0.0003))\n",
        "plt.show()"
      ],
      "metadata": {
        "colab": {
          "base_uri": "https://localhost:8080/",
          "height": 719
        },
        "id": "DUVv6fRJMfn8",
        "outputId": "6e081535-872d-4918-8688-a2e38cf39402"
      },
      "execution_count": null,
      "outputs": [
        {
          "output_type": "stream",
          "name": "stdout",
          "text": [
            " 0.3184 -0.0072 /content/drive/MyDrive/stable_diffusion/Portrait/charcoal drawing of a young Brazilian woman/2759034346_charcoal_drawing_of_a_young_Brazilian_woman.png\n",
            " 0.3071  0.0076 /content/drive/MyDrive/stable_diffusion/Portrait/charcoal drawing of a young Brazilian woman/3447951393_charcoal_drawing_of_a_young_Brazilian_woman.png\n",
            " 0.2827 -0.0039 /content/drive/MyDrive/stable_diffusion/Portrait/charcoal drawing of a young Brazilian woman/3865261325_charcoal_drawing_of_a_young_Brazilian_woman.png\n",
            " 0.2988  0.0050 /content/drive/MyDrive/stable_diffusion/Portrait/charcoal drawing of a young Brazilian woman/3983636955_charcoal_drawing_of_a_young_Brazilian_woman.png\n",
            " 0.2949 -0.0038 /content/drive/MyDrive/stable_diffusion/Portrait/charcoal drawing of a young Brazilian woman/DALL·E 2022-10-29 23.21.10 - charcoal drawing of a young Brazilian woman.png\n",
            " 0.2573  0.0039 /content/drive/MyDrive/stable_diffusion/Portrait/charcoal drawing of a young Brazilian woman/DALL·E 2022-10-29 23.21.24 - charcoal drawing of a young Brazilian girl.png\n",
            " 0.2703  0.0073 /content/drive/MyDrive/stable_diffusion/Portrait/charcoal drawing of a young Brazilian woman/DALL·E 2022-10-29 23.24.45 - charcoal drawing of a young Brazilian woman.png\n",
            " 0.2861  0.0215 /content/drive/MyDrive/stable_diffusion/Portrait/charcoal drawing of a young Brazilian woman/DALL·E 2022-10-29 23.25.09 - charcoal drawing of a young Brazilian woman.png\n",
            " 0.3042  0.0370 /content/drive/MyDrive/stable_diffusion/Portrait/charcoal drawing of a young Brazilian woman/robgon-art_charcoal_drawing_of_a_young_Brazilian_woman_21026149-94b7-442f-bf8f-c8f951af51c2.png\n",
            " 0.3171  0.0348 /content/drive/MyDrive/stable_diffusion/Portrait/charcoal drawing of a young Brazilian woman/robgon-art_charcoal_drawing_of_a_young_Brazilian_woman_7e08cc8a-cd4a-44cf-ab9f-3becb74260dc.png\n",
            " 0.3054  0.0339 /content/drive/MyDrive/stable_diffusion/Portrait/charcoal drawing of a young Brazilian woman/robgon-art_charcoal_drawing_of_a_young_Brazilian_woman_c370973f-336e-4836-a327-294c5fdea9a4.png\n",
            " 0.3066  0.0250 /content/drive/MyDrive/stable_diffusion/Portrait/charcoal drawing of a young Brazilian woman/robgon-art_charcoal_drawing_of_a_young_Brazilian_woman_c4859aea-504d-4609-8299-f0824978d4d5.png\n"
          ]
        },
        {
          "output_type": "display_data",
          "data": {
            "text/plain": [
              "<Figure size 560x560 with 1 Axes>"
            ],
            "image/png": "[encoded data removed]"
          },
          "metadata": {
            "needs_background": "light"
          }
        }
      ]
    }
  ]
}